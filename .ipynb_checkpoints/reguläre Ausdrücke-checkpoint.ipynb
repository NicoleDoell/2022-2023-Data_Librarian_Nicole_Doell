{
 "cells": [
  {
   "cell_type": "code",
   "execution_count": 1,
   "id": "31f5c8eb",
   "metadata": {},
   "outputs": [],
   "source": [
    "import re"
   ]
  },
  {
   "cell_type": "code",
   "execution_count": 9,
   "id": "4105bb15",
   "metadata": {},
   "outputs": [],
   "source": [
    "my_sentences = \"There are some grey trees outside. 6667839.  2342332\""
   ]
  },
  {
   "cell_type": "code",
   "execution_count": 15,
   "id": "0bb28a05",
   "metadata": {},
   "outputs": [],
   "source": [
    "hits = re.findall(\"\\d+\", my_sentences)"
   ]
  },
  {
   "cell_type": "code",
   "execution_count": 16,
   "id": "1b5b9ba2",
   "metadata": {},
   "outputs": [
    {
     "data": {
      "text/plain": [
       "'6667839'"
      ]
     },
     "execution_count": 16,
     "metadata": {},
     "output_type": "execute_result"
    }
   ],
   "source": [
    "hits[0]"
   ]
  },
  {
   "cell_type": "code",
   "execution_count": 17,
   "id": "1519030d",
   "metadata": {},
   "outputs": [
    {
     "data": {
      "text/plain": [
       "['6667839', '2342332']"
      ]
     },
     "execution_count": 17,
     "metadata": {},
     "output_type": "execute_result"
    }
   ],
   "source": [
    "hits"
   ]
  },
  {
   "cell_type": "code",
   "execution_count": null,
   "id": "2de8019a",
   "metadata": {},
   "outputs": [],
   "source": []
  }
 ],
 "metadata": {
  "kernelspec": {
   "display_name": "Python 3 (ipykernel)",
   "language": "python",
   "name": "python3"
  },
  "language_info": {
   "codemirror_mode": {
    "name": "ipython",
    "version": 3
   },
   "file_extension": ".py",
   "mimetype": "text/x-python",
   "name": "python",
   "nbconvert_exporter": "python",
   "pygments_lexer": "ipython3",
   "version": "3.9.13"
  }
 },
 "nbformat": 4,
 "nbformat_minor": 5
}
