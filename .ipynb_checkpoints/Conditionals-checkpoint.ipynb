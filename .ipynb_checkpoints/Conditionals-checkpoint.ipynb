{
 "cells": [
  {
   "cell_type": "markdown",
   "id": "2b8a681d",
   "metadata": {},
   "source": [
    "# Conditionals = bedingte Anweisung"
   ]
  },
  {
   "cell_type": "code",
   "execution_count": 2,
   "id": "2301475a",
   "metadata": {},
   "outputs": [
    {
     "name": "stdout",
     "output_type": "stream",
     "text": [
      "It`s warm\n"
     ]
    }
   ],
   "source": [
    "temp = 15\n",
    "if temp > 10:\n",
    "    print(\"It`s warm\")"
   ]
  },
  {
   "cell_type": "code",
   "execution_count": 3,
   "id": "436a1958",
   "metadata": {},
   "outputs": [],
   "source": [
    "temp = 10\n",
    "if temp > 15:\n",
    "    print(\"It`s warm\")"
   ]
  },
  {
   "cell_type": "code",
   "execution_count": 4,
   "id": "a672c0c7",
   "metadata": {},
   "outputs": [
    {
     "name": "stdout",
     "output_type": "stream",
     "text": [
      "It`s cold\n"
     ]
    }
   ],
   "source": [
    "temp = 10\n",
    "if temp > 15:\n",
    "    print(\"It`s warm\")\n",
    "    \n",
    "else:\n",
    "    print(\"It`s cold\")\n"
   ]
  },
  {
   "cell_type": "code",
   "execution_count": 5,
   "id": "a075bb50",
   "metadata": {},
   "outputs": [
    {
     "name": "stdout",
     "output_type": "stream",
     "text": [
      "It`s warm\n"
     ]
    }
   ],
   "source": [
    "temp = 15\n",
    "if temp >= 15:\n",
    "    print(\"It`s warm\")\n",
    "    \n",
    "else:\n",
    "    print(\"It`s cold\")"
   ]
  },
  {
   "cell_type": "code",
   "execution_count": 11,
   "id": "4a8526ed",
   "metadata": {},
   "outputs": [
    {
     "name": "stdout",
     "output_type": "stream",
     "text": [
      "It`s warm\n",
      "......*.......*......*\n",
      ":::::::\n"
     ]
    }
   ],
   "source": [
    "temp = 15\n",
    "if temp >= 25:\n",
    "    print(\"It`s hot\")\n",
    "elif temp >= 15 : \n",
    "    print(\"It`s warm\")\n",
    "    print(\"......*.......*......*\")\n",
    "    \n",
    "else:\n",
    "    print(\"It`s cold\")\n",
    "print(\":::::::\")"
   ]
  },
  {
   "cell_type": "code",
   "execution_count": null,
   "id": "1f05a741",
   "metadata": {},
   "outputs": [],
   "source": []
  }
 ],
 "metadata": {
  "kernelspec": {
   "display_name": "Python 3 (ipykernel)",
   "language": "python",
   "name": "python3"
  },
  "language_info": {
   "codemirror_mode": {
    "name": "ipython",
    "version": 3
   },
   "file_extension": ".py",
   "mimetype": "text/x-python",
   "name": "python",
   "nbconvert_exporter": "python",
   "pygments_lexer": "ipython3",
   "version": "3.9.13"
  }
 },
 "nbformat": 4,
 "nbformat_minor": 5
}
