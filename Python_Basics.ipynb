{
 "cells": [
  {
   "cell_type": "markdown",
   "id": "1e5216dc",
   "metadata": {},
   "source": [
    "# Python Einführung\n",
    "**Python**"
   ]
  },
  {
   "cell_type": "code",
   "execution_count": 87,
   "id": "8781eeff",
   "metadata": {},
   "outputs": [
    {
     "name": "stdout",
     "output_type": "stream",
     "text": [
      "Hallo zusammen\n"
     ]
    }
   ],
   "source": [
    "print(\"Hallo zusammen\")"
   ]
  },
  {
   "cell_type": "markdown",
   "id": "0b27d3a9",
   "metadata": {},
   "source": [
    "## Kommentare"
   ]
  },
  {
   "cell_type": "code",
   "execution_count": 88,
   "id": "fde6fb3b",
   "metadata": {},
   "outputs": [
    {
     "name": "stdout",
     "output_type": "stream",
     "text": [
      "was schönes\n"
     ]
    }
   ],
   "source": [
    "# Dies ist ein Kommentar\n",
    "print (\"was schönes\")"
   ]
  },
  {
   "cell_type": "code",
   "execution_count": 89,
   "id": "1ead941c",
   "metadata": {},
   "outputs": [
    {
     "name": "stdout",
     "output_type": "stream",
     "text": [
      "was schönes\n"
     ]
    }
   ],
   "source": [
    "# Dies ist ein Kommentar\n",
    "print (\"was schönes\")"
   ]
  },
  {
   "cell_type": "markdown",
   "id": "0e131bb9",
   "metadata": {},
   "source": [
    "## Einfache Datentypen"
   ]
  },
  {
   "cell_type": "code",
   "execution_count": 90,
   "id": "fd200cc2",
   "metadata": {},
   "outputs": [
    {
     "name": "stdout",
     "output_type": "stream",
     "text": [
      "Lovelace\n"
     ]
    }
   ],
   "source": [
    "# Variablen und Wertezuweisung\n",
    "name = \"Lovelace\"\n",
    "print (name)"
   ]
  },
  {
   "cell_type": "code",
   "execution_count": 91,
   "id": "c0b501a6",
   "metadata": {},
   "outputs": [
    {
     "name": "stdout",
     "output_type": "stream",
     "text": [
      "Ada\n"
     ]
    }
   ],
   "source": [
    "# Strings - Zeichenketten\n",
    "first_name = \"Ada\"\n",
    "print (first_name)"
   ]
  },
  {
   "cell_type": "code",
   "execution_count": 92,
   "id": "57340373",
   "metadata": {},
   "outputs": [
    {
     "name": "stdout",
     "output_type": "stream",
     "text": [
      "37\n"
     ]
    }
   ],
   "source": [
    "# integer - Ganzzahlen\n",
    "age = 37\n",
    "print (age)"
   ]
  },
  {
   "cell_type": "code",
   "execution_count": 93,
   "id": "5ed1f29a",
   "metadata": {},
   "outputs": [
    {
     "name": "stdout",
     "output_type": "stream",
     "text": [
      "1.7123\n"
     ]
    }
   ],
   "source": [
    "# Floats - Gleitkommazahl\n",
    "size = 1.7123\n",
    "print (size)"
   ]
  },
  {
   "cell_type": "code",
   "execution_count": 94,
   "id": "be48e034",
   "metadata": {},
   "outputs": [
    {
     "name": "stdout",
     "output_type": "stream",
     "text": [
      "True\n",
      "False\n"
     ]
    }
   ],
   "source": [
    "# Boolean - Boolscher Wert\n",
    "knows_math = True\n",
    "likes_gardening = False\n",
    "print (knows_math)\n",
    "print (likes_gardening)"
   ]
  },
  {
   "cell_type": "code",
   "execution_count": 95,
   "id": "5d3dc1d3",
   "metadata": {},
   "outputs": [
    {
     "data": {
      "text/plain": [
       "str"
      ]
     },
     "execution_count": 95,
     "metadata": {},
     "output_type": "execute_result"
    }
   ],
   "source": [
    "type(name)"
   ]
  },
  {
   "cell_type": "code",
   "execution_count": 96,
   "id": "54ada99b",
   "metadata": {},
   "outputs": [
    {
     "data": {
      "text/plain": [
       "'Lovelace'"
      ]
     },
     "execution_count": 96,
     "metadata": {},
     "output_type": "execute_result"
    }
   ],
   "source": [
    "name"
   ]
  },
  {
   "cell_type": "code",
   "execution_count": 97,
   "id": "43a8837e",
   "metadata": {},
   "outputs": [
    {
     "data": {
      "text/plain": [
       "37"
      ]
     },
     "execution_count": 97,
     "metadata": {},
     "output_type": "execute_result"
    }
   ],
   "source": [
    "name\n",
    "age"
   ]
  },
  {
   "cell_type": "code",
   "execution_count": 98,
   "id": "1fb9cfe2",
   "metadata": {},
   "outputs": [
    {
     "name": "stdout",
     "output_type": "stream",
     "text": [
      "Lovelace\n",
      "37\n"
     ]
    }
   ],
   "source": [
    "print (name)\n",
    "print (age)"
   ]
  },
  {
   "cell_type": "code",
   "execution_count": 99,
   "id": "63e2b655",
   "metadata": {},
   "outputs": [
    {
     "name": "stdout",
     "output_type": "stream",
     "text": [
      "Lovelace\n"
     ]
    }
   ],
   "source": [
    "print (name)"
   ]
  },
  {
   "cell_type": "code",
   "execution_count": 100,
   "id": "030cfcc3",
   "metadata": {},
   "outputs": [
    {
     "name": "stdout",
     "output_type": "stream",
     "text": [
      "Lovelace 37\n"
     ]
    }
   ],
   "source": [
    "print (name, age)"
   ]
  },
  {
   "cell_type": "markdown",
   "id": "0e23367d",
   "metadata": {},
   "source": [
    "## Operatoren"
   ]
  },
  {
   "cell_type": "code",
   "execution_count": 101,
   "id": "2dfa5eb5",
   "metadata": {},
   "outputs": [
    {
     "data": {
      "text/plain": [
       "10"
      ]
     },
     "execution_count": 101,
     "metadata": {},
     "output_type": "execute_result"
    }
   ],
   "source": [
    "5+5"
   ]
  },
  {
   "cell_type": "code",
   "execution_count": 102,
   "id": "1aa40cf5",
   "metadata": {},
   "outputs": [
    {
     "data": {
      "text/plain": [
       "3700"
      ]
     },
     "execution_count": 102,
     "metadata": {},
     "output_type": "execute_result"
    }
   ],
   "source": [
    "age *100"
   ]
  },
  {
   "cell_type": "code",
   "execution_count": 103,
   "id": "48fecbcb",
   "metadata": {},
   "outputs": [
    {
     "data": {
      "text/plain": [
       "'LovelaceLovelace'"
      ]
     },
     "execution_count": 103,
     "metadata": {},
     "output_type": "execute_result"
    }
   ],
   "source": [
    "name + name"
   ]
  },
  {
   "cell_type": "code",
   "execution_count": 104,
   "id": "31733ab2",
   "metadata": {},
   "outputs": [
    {
     "data": {
      "text/plain": [
       "'LovelaceLovelaceLovelaceLovelaceLovelaceLovelaceLovelaceLovelaceLovelaceLovelace'"
      ]
     },
     "execution_count": 104,
     "metadata": {},
     "output_type": "execute_result"
    }
   ],
   "source": [
    "name * 10"
   ]
  },
  {
   "cell_type": "code",
   "execution_count": 105,
   "id": "11f13648",
   "metadata": {},
   "outputs": [
    {
     "ename": "TypeError",
     "evalue": "can only concatenate str (not \"int\") to str",
     "output_type": "error",
     "traceback": [
      "\u001b[0;31m---------------------------------------------------------------------------\u001b[0m",
      "\u001b[0;31mTypeError\u001b[0m                                 Traceback (most recent call last)",
      "\u001b[0;32m/tmp/ipykernel_3657/3004308386.py\u001b[0m in \u001b[0;36m<module>\u001b[0;34m\u001b[0m\n\u001b[0;32m----> 1\u001b[0;31m \u001b[0mname\u001b[0m \u001b[0;34m+\u001b[0m \u001b[0;36m10\u001b[0m\u001b[0;34m\u001b[0m\u001b[0;34m\u001b[0m\u001b[0m\n\u001b[0m",
      "\u001b[0;31mTypeError\u001b[0m: can only concatenate str (not \"int\") to str"
     ]
    }
   ],
   "source": [
    "name + 10"
   ]
  },
  {
   "cell_type": "code",
   "execution_count": null,
   "id": "8952a395",
   "metadata": {},
   "outputs": [],
   "source": [
    "name +\"10\""
   ]
  },
  {
   "cell_type": "code",
   "execution_count": null,
   "id": "f4cbfd96",
   "metadata": {},
   "outputs": [],
   "source": [
    "size / age"
   ]
  },
  {
   "cell_type": "code",
   "execution_count": null,
   "id": "6955550e",
   "metadata": {},
   "outputs": [],
   "source": [
    "number_of_articles = \"50\""
   ]
  },
  {
   "cell_type": "code",
   "execution_count": null,
   "id": "0e82554b",
   "metadata": {},
   "outputs": [],
   "source": [
    "number_of_articles / 10"
   ]
  },
  {
   "cell_type": "code",
   "execution_count": null,
   "id": "d961924f",
   "metadata": {},
   "outputs": [],
   "source": [
    "int(number_of_articles) / 10"
   ]
  },
  {
   "cell_type": "code",
   "execution_count": null,
   "id": "f484ba62",
   "metadata": {},
   "outputs": [],
   "source": [
    "type (number_of_articles)"
   ]
  },
  {
   "cell_type": "markdown",
   "id": "3e926d74",
   "metadata": {},
   "source": [
    "## Funktionen und Methoden"
   ]
  },
  {
   "cell_type": "code",
   "execution_count": null,
   "id": "fa89e52e",
   "metadata": {},
   "outputs": [],
   "source": [
    "len(name)"
   ]
  },
  {
   "cell_type": "code",
   "execution_count": null,
   "id": "f61026ec",
   "metadata": {},
   "outputs": [],
   "source": [
    "name.upper()"
   ]
  },
  {
   "cell_type": "code",
   "execution_count": null,
   "id": "ef39b91f",
   "metadata": {},
   "outputs": [],
   "source": [
    "x = name.upper"
   ]
  },
  {
   "cell_type": "code",
   "execution_count": null,
   "id": "f18a9f89",
   "metadata": {},
   "outputs": [],
   "source": [
    "x()"
   ]
  },
  {
   "cell_type": "code",
   "execution_count": null,
   "id": "59411d42",
   "metadata": {},
   "outputs": [],
   "source": [
    "name.count(\"e\")"
   ]
  },
  {
   "cell_type": "code",
   "execution_count": null,
   "id": "a158ad69",
   "metadata": {},
   "outputs": [],
   "source": [
    "name.replace(\"lace\", \"is everywhere\")"
   ]
  },
  {
   "cell_type": "code",
   "execution_count": null,
   "id": "9b6d1e3f",
   "metadata": {},
   "outputs": [],
   "source": [
    "name.replace (\"lace\", \" is everywhere\")"
   ]
  },
  {
   "cell_type": "markdown",
   "id": "5b44f999",
   "metadata": {},
   "source": [
    "## Listen und Dictionaries"
   ]
  },
  {
   "cell_type": "code",
   "execution_count": null,
   "id": "57f9dad3",
   "metadata": {},
   "outputs": [],
   "source": [
    "names = [\"Lovelace\", \"Darwin\", \"Noether\",\"Hawking\" ]"
   ]
  },
  {
   "cell_type": "code",
   "execution_count": null,
   "id": "592a1a92",
   "metadata": {},
   "outputs": [],
   "source": [
    "names(0)"
   ]
  },
  {
   "cell_type": "code",
   "execution_count": null,
   "id": "f23649b7",
   "metadata": {},
   "outputs": [],
   "source": [
    "names[]"
   ]
  },
  {
   "cell_type": "code",
   "execution_count": null,
   "id": "788377d4",
   "metadata": {},
   "outputs": [],
   "source": [
    "names[0]"
   ]
  },
  {
   "cell_type": "code",
   "execution_count": null,
   "id": "50b50e84",
   "metadata": {},
   "outputs": [],
   "source": [
    "names[1]"
   ]
  },
  {
   "cell_type": "code",
   "execution_count": null,
   "id": "4b38dda4",
   "metadata": {},
   "outputs": [],
   "source": [
    "names[2]"
   ]
  },
  {
   "cell_type": "code",
   "execution_count": null,
   "id": "771776f2",
   "metadata": {},
   "outputs": [],
   "source": [
    "names[-1]"
   ]
  },
  {
   "cell_type": "code",
   "execution_count": null,
   "id": "8bec317f",
   "metadata": {},
   "outputs": [],
   "source": [
    "names[0:3]"
   ]
  },
  {
   "cell_type": "code",
   "execution_count": null,
   "id": "ed9aa296",
   "metadata": {},
   "outputs": [],
   "source": [
    "names[]"
   ]
  },
  {
   "cell_type": "code",
   "execution_count": null,
   "id": "5e3299fa",
   "metadata": {},
   "outputs": [],
   "source": [
    "names[0:2]"
   ]
  },
  {
   "cell_type": "code",
   "execution_count": null,
   "id": "4b273a23",
   "metadata": {},
   "outputs": [],
   "source": [
    "names"
   ]
  },
  {
   "cell_type": "code",
   "execution_count": null,
   "id": "09c6168c",
   "metadata": {},
   "outputs": [],
   "source": [
    "authors_and_birth_years = {\"Lovelace\": 1815}"
   ]
  },
  {
   "cell_type": "code",
   "execution_count": null,
   "id": "909c1196",
   "metadata": {},
   "outputs": [],
   "source": [
    "authors_and_birth_years = {\"Lovelace\": 1815, \"Darwin\": 1809}"
   ]
  },
  {
   "cell_type": "code",
   "execution_count": null,
   "id": "87fa5303",
   "metadata": {},
   "outputs": [],
   "source": [
    "authors_and_birth_years[\"Darwin\"]"
   ]
  },
  {
   "cell_type": "markdown",
   "id": "bac57646",
   "metadata": {},
   "source": [
    "## For-Schleife / For-Loops"
   ]
  },
  {
   "cell_type": "code",
   "execution_count": null,
   "id": "a748ee6e",
   "metadata": {},
   "outputs": [],
   "source": [
    "for person in names: "
   ]
  },
  {
   "cell_type": "code",
   "execution_count": null,
   "id": "4e66dc7f",
   "metadata": {},
   "outputs": [],
   "source": [
    "for person in names:\n",
    "    print(person + \" did awesome stuff.\")\n",
    "    print(\".........\")"
   ]
  },
  {
   "cell_type": "code",
   "execution_count": null,
   "id": "3c4a07e7",
   "metadata": {
    "scrolled": true
   },
   "outputs": [],
   "source": [
    "import this"
   ]
  },
  {
   "cell_type": "code",
   "execution_count": null,
   "id": "0b2eb6e4",
   "metadata": {},
   "outputs": [],
   "source": [
    "import this"
   ]
  },
  {
   "cell_type": "code",
   "execution_count": 106,
   "id": "99946173",
   "metadata": {},
   "outputs": [],
   "source": [
    "import this"
   ]
  },
  {
   "cell_type": "code",
   "execution_count": 1,
   "id": "62fda287",
   "metadata": {},
   "outputs": [
    {
     "name": "stdout",
     "output_type": "stream",
     "text": [
      "The Zen of Python, by Tim Peters\n",
      "\n",
      "Beautiful is better than ugly.\n",
      "Explicit is better than implicit.\n",
      "Simple is better than complex.\n",
      "Complex is better than complicated.\n",
      "Flat is better than nested.\n",
      "Sparse is better than dense.\n",
      "Readability counts.\n",
      "Special cases aren't special enough to break the rules.\n",
      "Although practicality beats purity.\n",
      "Errors should never pass silently.\n",
      "Unless explicitly silenced.\n",
      "In the face of ambiguity, refuse the temptation to guess.\n",
      "There should be one-- and preferably only one --obvious way to do it.\n",
      "Although that way may not be obvious at first unless you're Dutch.\n",
      "Now is better than never.\n",
      "Although never is often better than *right* now.\n",
      "If the implementation is hard to explain, it's a bad idea.\n",
      "If the implementation is easy to explain, it may be a good idea.\n",
      "Namespaces are one honking great idea -- let's do more of those!\n"
     ]
    }
   ],
   "source": [
    "import this"
   ]
  },
  {
   "cell_type": "code",
   "execution_count": null,
   "id": "0dc68f5a",
   "metadata": {},
   "outputs": [],
   "source": []
  },
  {
   "cell_type": "code",
   "execution_count": null,
   "id": "415c5286",
   "metadata": {},
   "outputs": [],
   "source": []
  }
 ],
 "metadata": {
  "kernelspec": {
   "display_name": "Python 3 (ipykernel)",
   "language": "python",
   "name": "python3"
  },
  "language_info": {
   "codemirror_mode": {
    "name": "ipython",
    "version": 3
   },
   "file_extension": ".py",
   "mimetype": "text/x-python",
   "name": "python",
   "nbconvert_exporter": "python",
   "pygments_lexer": "ipython3",
   "version": "3.9.13"
  }
 },
 "nbformat": 4,
 "nbformat_minor": 5
}
