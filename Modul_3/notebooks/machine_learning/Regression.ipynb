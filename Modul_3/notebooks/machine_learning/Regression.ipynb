{
 "cells": [
  {
   "cell_type": "markdown",
   "id": "501d8701",
   "metadata": {},
   "source": [
    "Hier führen wir eine einfache Regression von zwei Features (also in zwei Dimensionen durch), da dies sich leichter visualisieren lässt. Tatsächlich ist man aber in der Anzahl an Features nicht eingeschränkt. Ziel ist es ein Regression-Model zu erstellen, in dem man einen numerischen Eingabe-Wert (x) eingibt und einen numerischen Ausgabe-Wert (y) erhält.\n",
    "\n",
    "Wir erzeugen und ein künstlichen Datenset von 500 Datenpunkten mit Hilfe der Funktion make_regression. Mit dem Parameter noise können wir angeben, wie verauscht die Daten sein sollen."
   ]
  },
  {
   "cell_type": "code",
   "execution_count": 1,
   "id": "b723ec93",
   "metadata": {},
   "outputs": [],
   "source": [
    "from sklearn.datasets import make_regression\n",
    "X_reg, y_reg = make_regression(n_samples=500, n_features=1, noise=20, random_state=1)"
   ]
  },
  {
   "cell_type": "code",
   "execution_count": 2,
   "id": "6b6d67b1",
   "metadata": {},
   "outputs": [
    {
     "data": {
      "text/plain": [
       "array([[-1.91835552e-01],\n",
       "       [-5.37223024e-01],\n",
       "       [ 5.64382855e-01],\n",
       "       [ 1.93752881e+00],\n",
       "       [ 1.20205486e+00],\n",
       "       [-2.43483776e+00],\n",
       "       [ 2.10025514e+00],\n",
       "       [ 1.00088142e+00],\n",
       "       [-7.67309826e-01],\n",
       "       [-7.77858827e-01],\n",
       "       [-1.09991490e-01],\n",
       "       [-4.48738033e-01],\n",
       "       [ 6.74570707e-01],\n",
       "       [ 1.74481176e+00],\n",
       "       [-2.26314243e-01],\n",
       "       [ 1.62765075e+00],\n",
       "       [ 3.69492716e-01],\n",
       "       [ 8.25029824e-01],\n",
       "       [ 8.65407629e-01],\n",
       "       [ 3.67231814e-01],\n",
       "       [ 7.78211279e-02],\n",
       "       [ 1.04444209e+00],\n",
       "       [ 8.52704062e-01],\n",
       "       [ 5.82815214e-01],\n",
       "       [-6.70662286e-01],\n",
       "       [ 5.92472801e-01],\n",
       "       [ 4.41364444e-01],\n",
       "       [-2.46169559e-02],\n",
       "       [ 1.38877940e+00],\n",
       "       [ 4.77610182e-01],\n",
       "       [ 1.61694960e+00],\n",
       "       [-7.00398505e-01],\n",
       "       [ 1.62284909e+00],\n",
       "       [ 1.04008915e+00],\n",
       "       [ 3.86539145e-01],\n",
       "       [ 2.19069973e+00],\n",
       "       [ 2.11124755e-01],\n",
       "       [ 8.38983414e-01],\n",
       "       [-3.52249846e-01],\n",
       "       [-1.02188594e+00],\n",
       "       [ 2.18697965e+00],\n",
       "       [-1.61577235e+00],\n",
       "       [ 3.15159392e-01],\n",
       "       [ 1.27852808e+00],\n",
       "       [ 6.18539131e-01],\n",
       "       [ 7.63804802e-02],\n",
       "       [-6.65754518e-01],\n",
       "       [-6.46916688e-01],\n",
       "       [ 6.61020288e-01],\n",
       "       [-4.42229280e-01],\n",
       "       [ 1.03882460e+00],\n",
       "       [ 6.02319280e-01],\n",
       "       [ 1.65275673e-02],\n",
       "       [-1.18231813e+00],\n",
       "       [-2.81736269e-01],\n",
       "       [ 4.35968568e-02],\n",
       "       [ 1.33145711e+00],\n",
       "       [-1.35977326e-01],\n",
       "       [ 1.15528789e+00],\n",
       "       [-7.49969617e-01],\n",
       "       [ 6.23362177e-01],\n",
       "       [ 3.15634947e-01],\n",
       "       [-3.96753527e-01],\n",
       "       [ 7.50411640e-01],\n",
       "       [ 3.23527354e-01],\n",
       "       [-9.35769434e-01],\n",
       "       [ 1.60037069e-01],\n",
       "       [-1.74180344e-01],\n",
       "       [-1.21974440e+00],\n",
       "       [ 4.10051647e-01],\n",
       "       [-7.33271604e-01],\n",
       "       [-8.30168864e-01],\n",
       "       [ 2.32494559e-01],\n",
       "       [ 8.40861558e-01],\n",
       "       [-3.26499498e-01],\n",
       "       [ 6.21082701e-01],\n",
       "       [-4.34956683e-01],\n",
       "       [-1.62743834e+00],\n",
       "       [ 1.14690038e+00],\n",
       "       [-9.01634490e-01],\n",
       "       [ 7.21711292e-01],\n",
       "       [-2.66218506e-01],\n",
       "       [-3.22417204e-01],\n",
       "       [-1.10447026e-01],\n",
       "       [ 1.19783084e+00],\n",
       "       [-7.55717130e-02],\n",
       "       [ 3.24274243e-01],\n",
       "       [ 7.73400683e-02],\n",
       "       [ 3.00170320e-01],\n",
       "       [-2.30839743e-01],\n",
       "       [-1.23685338e+00],\n",
       "       [-1.26645989e-02],\n",
       "       [-8.26097432e-01],\n",
       "       [ 8.84908814e-01],\n",
       "       [-1.09491185e+00],\n",
       "       [ 1.86647138e+00],\n",
       "       [-8.67768678e-01],\n",
       "       [-9.53700602e-01],\n",
       "       [-8.51455657e-01],\n",
       "       [ 1.09899633e+00],\n",
       "       [ 1.98299720e-01],\n",
       "       [-1.16017010e+00],\n",
       "       [-8.80577600e-01],\n",
       "       [ 1.11105670e+00],\n",
       "       [-6.94920901e-01],\n",
       "       [-4.79184915e-01],\n",
       "       [ 7.58805660e-01],\n",
       "       [ 5.20576337e-01],\n",
       "       [-2.02220122e+00],\n",
       "       [ 1.90915485e-01],\n",
       "       [ 9.01486892e-01],\n",
       "       [-5.32234021e-01],\n",
       "       [ 1.33526763e-02],\n",
       "       [-8.87628964e-01],\n",
       "       [-2.79097722e-01],\n",
       "       [-1.09989127e+00],\n",
       "       [-2.96641152e-01],\n",
       "       [ 5.08077548e-02],\n",
       "       [ 4.50155513e-01],\n",
       "       [-6.38730407e-01],\n",
       "       [ 8.01861032e-01],\n",
       "       [ 6.30195671e-01],\n",
       "       [-1.30653407e+00],\n",
       "       [ 1.37701210e-01],\n",
       "       [-6.03920628e-01],\n",
       "       [-3.74804687e-01],\n",
       "       [ 5.03184813e-01],\n",
       "       [ 1.25286816e+00],\n",
       "       [-7.25597119e-01],\n",
       "       [ 1.77187720e-01],\n",
       "       [ 8.75838928e-01],\n",
       "       [ 9.31102081e-01],\n",
       "       [ 6.18380262e-01],\n",
       "       [ 2.13533901e-01],\n",
       "       [-6.61344243e-01],\n",
       "       [-3.10984978e-01],\n",
       "       [-6.18036848e-01],\n",
       "       [-4.47128565e-01],\n",
       "       [ 2.05462410e+00],\n",
       "       [-7.54397941e-01],\n",
       "       [ 3.50545979e-01],\n",
       "       [ 1.45142926e+00],\n",
       "       [ 7.27813500e-01],\n",
       "       [ 2.18628366e-02],\n",
       "       [ 5.02494339e-01],\n",
       "       [-2.30153870e+00],\n",
       "       [ 1.12948391e+00],\n",
       "       [-2.09424782e+00],\n",
       "       [ 6.08514698e-01],\n",
       "       [ 1.01012718e+00],\n",
       "       [ 4.29526140e-01],\n",
       "       [ 7.94528240e-01],\n",
       "       [ 5.50537496e-01],\n",
       "       [ 1.14472371e+00],\n",
       "       [-4.11639163e-01],\n",
       "       [ 5.93578523e-01],\n",
       "       [-5.62305431e-01],\n",
       "       [-1.36444744e-01],\n",
       "       [ 8.64644065e-02],\n",
       "       [-2.41350300e+00],\n",
       "       [-4.22856961e-01],\n",
       "       [-3.10116774e-01],\n",
       "       [-4.43171931e-01],\n",
       "       [ 4.65672984e-02],\n",
       "       [-1.23005814e+00],\n",
       "       [ 4.22137467e-02],\n",
       "       [-1.06793987e-01],\n",
       "       [ 2.06578332e+00],\n",
       "       [-3.19801599e-01],\n",
       "       [ 1.71647264e-02],\n",
       "       [-6.91660752e-01],\n",
       "       [ 6.07501958e-02],\n",
       "       [ 7.92806866e-01],\n",
       "       [-5.11884476e-02],\n",
       "       [-1.34267579e+00],\n",
       "       [ 1.19008646e-01],\n",
       "       [-2.48634778e-01],\n",
       "       [ 1.20845633e+00],\n",
       "       [-1.89636092e+00],\n",
       "       [ 1.61336137e+00],\n",
       "       [ 1.45810824e+00],\n",
       "       [-1.39662042e+00],\n",
       "       [ 1.70459417e+00],\n",
       "       [ 1.23616403e+00],\n",
       "       [-6.87172700e-01],\n",
       "       [-1.11911540e+00],\n",
       "       [ 1.56263850e-01],\n",
       "       [-8.77281519e-01],\n",
       "       [-1.11487105e+00],\n",
       "       [ 8.70969803e-01],\n",
       "       [-1.75458969e-01],\n",
       "       [ 2.05635552e+00],\n",
       "       [ 1.81053491e+00],\n",
       "       [-9.55425262e-01],\n",
       "       [ 8.85141164e-01],\n",
       "       [ 1.96710175e+00],\n",
       "       [-1.44087602e+00],\n",
       "       [-1.94332341e+00],\n",
       "       [-1.94258918e+00],\n",
       "       [-3.84054355e-01],\n",
       "       [-2.78253447e+00],\n",
       "       [-2.23708651e+00],\n",
       "       [ 4.38166347e-01],\n",
       "       [-2.67888080e-01],\n",
       "       [-5.08457134e-01],\n",
       "       [ 8.24005618e-01],\n",
       "       [-1.85798186e+00],\n",
       "       [-4.75372875e-01],\n",
       "       [-2.03720123e+00],\n",
       "       [-5.68244809e-02],\n",
       "       [-1.98837863e-01],\n",
       "       [-1.76068856e+00],\n",
       "       [ 9.39168744e-01],\n",
       "       [ 1.12232832e+00],\n",
       "       [ 1.54335911e+00],\n",
       "       [-7.85533997e-01],\n",
       "       [ 1.55880554e+00],\n",
       "       [-1.04458938e+00],\n",
       "       [ 5.85910431e-01],\n",
       "       [ 2.62467445e-01],\n",
       "       [-1.05344713e-01],\n",
       "       [-8.77858418e-01],\n",
       "       [ 6.74711526e-01],\n",
       "       [-1.72428208e-01],\n",
       "       [-6.06524918e-02],\n",
       "       [ 8.09271010e-02],\n",
       "       [ 2.11060505e+00],\n",
       "       [-1.68405999e+00],\n",
       "       [ 1.29101580e-01],\n",
       "       [ 6.59049796e-01],\n",
       "       [-1.01745873e-01],\n",
       "       [-7.75161619e-01],\n",
       "       [-1.89148284e-03],\n",
       "       [ 1.13162939e+00],\n",
       "       [ 3.03085711e+00],\n",
       "       [ 2.48799161e-01],\n",
       "       [ 1.39984394e+00],\n",
       "       [ 2.80665077e-01],\n",
       "       [-7.61206901e-01],\n",
       "       [ 4.03491642e-01],\n",
       "       [ 1.40754000e+00],\n",
       "       [ 9.54250872e-02],\n",
       "       [ 2.18557541e+00],\n",
       "       [ 1.34048197e-01],\n",
       "       [ 4.66643267e-01],\n",
       "       [-1.74703160e-01],\n",
       "       [ 8.24584625e-01],\n",
       "       [-1.17598267e+00],\n",
       "       [ 4.61164100e-01],\n",
       "       [ 9.21450069e-01],\n",
       "       [ 8.08844360e-01],\n",
       "       [-5.17094458e-01],\n",
       "       [ 1.78975468e+00],\n",
       "       [ 6.82551407e-01],\n",
       "       [-2.14246673e+00],\n",
       "       [ 1.13376944e+00],\n",
       "       [ 6.17203110e-01],\n",
       "       [ 5.15413802e-01],\n",
       "       [-1.15985185e-01],\n",
       "       [-3.06204013e-01],\n",
       "       [ 1.16033857e+00],\n",
       "       [ 6.74396105e-01],\n",
       "       [ 1.95487808e+00],\n",
       "       [-8.59515941e-01],\n",
       "       [-7.22391905e-01],\n",
       "       [-6.11756414e-01],\n",
       "       [ 8.63345318e-01],\n",
       "       [ 3.38011697e-01],\n",
       "       [-2.22328143e-01],\n",
       "       [-9.18440038e-01],\n",
       "       [ 1.35010682e+00],\n",
       "       [ 4.92336556e-01],\n",
       "       [ 1.79215821e+00],\n",
       "       [ 5.02740882e-01],\n",
       "       [-1.80920302e-01],\n",
       "       [-4.97025792e-02],\n",
       "       [ 3.77563786e-01],\n",
       "       [-6.20000844e-01],\n",
       "       [ 5.34095368e-02],\n",
       "       [-2.49370375e-01],\n",
       "       [-4.00878192e-01],\n",
       "       [ 1.23289919e+00],\n",
       "       [-3.75284950e-01],\n",
       "       [ 1.83471763e+00],\n",
       "       [-5.28171752e-01],\n",
       "       [-2.54179868e-01],\n",
       "       [-1.77756638e+00],\n",
       "       [ 1.19891788e+00],\n",
       "       [-4.29142278e-01],\n",
       "       [-6.71246131e-01],\n",
       "       [ 5.12929820e-01],\n",
       "       [-1.90221025e-01],\n",
       "       [-5.45774168e-01],\n",
       "       [-4.98213564e-01],\n",
       "       [ 9.86335188e-01],\n",
       "       [ 1.11570180e+00],\n",
       "       [-2.28765829e-01],\n",
       "       [ 9.20615118e-01],\n",
       "       [ 1.76024923e+00],\n",
       "       [ 1.86561391e-01],\n",
       "       [ 2.13782807e+00],\n",
       "       [ 3.13547720e-01],\n",
       "       [ 7.84770651e-01],\n",
       "       [-2.36436952e-01],\n",
       "       [-7.81911683e-01],\n",
       "       [-7.01344426e-01],\n",
       "       [ 1.12341216e+00],\n",
       "       [ 2.40737092e-01],\n",
       "       [ 8.36004719e-01],\n",
       "       [-4.68673816e-01],\n",
       "       [-1.20464572e-01],\n",
       "       [-5.33020326e-01],\n",
       "       [-6.72448039e-01],\n",
       "       [-6.23530730e-01],\n",
       "       [-2.98092835e-01],\n",
       "       [-7.97269785e-01],\n",
       "       [ 3.53600971e-02],\n",
       "       [-3.84832249e-01],\n",
       "       [ 2.30094735e-01],\n",
       "       [-2.00758069e-01],\n",
       "       [-1.18771172e-01],\n",
       "       [ 2.76499305e-01],\n",
       "       [ 1.69382433e-01],\n",
       "       [-2.08894233e-01],\n",
       "       [-1.84176326e-01],\n",
       "       [-6.94693595e-01],\n",
       "       [-8.45205641e-01],\n",
       "       [-3.43853676e-01],\n",
       "       [-3.43900709e-01],\n",
       "       [-1.86569772e-01],\n",
       "       [-3.49342722e-01],\n",
       "       [-9.97026828e-01],\n",
       "       [ 1.04499441e+00],\n",
       "       [-4.13029310e-01],\n",
       "       [ 6.21803504e-01],\n",
       "       [-1.14251820e+00],\n",
       "       [-6.17362064e-01],\n",
       "       [ 5.84646610e-01],\n",
       "       [-1.95210529e+00],\n",
       "       [ 4.88518147e-01],\n",
       "       [ 8.46160648e-01],\n",
       "       [-6.93286967e-02],\n",
       "       [-4.79157099e-01],\n",
       "       [-1.00155233e-01],\n",
       "       [-1.68198840e-01],\n",
       "       [-1.10771250e+00],\n",
       "       [ 9.01590721e-01],\n",
       "       [-1.10061918e+00],\n",
       "       [ 4.36689932e-02],\n",
       "       [ 9.00855949e-01],\n",
       "       [ 4.23494354e-01],\n",
       "       [ 1.22450770e+00],\n",
       "       [-3.86955093e-02],\n",
       "       [-1.52568032e+00],\n",
       "       [-7.05840507e-01],\n",
       "       [ 1.11813340e+00],\n",
       "       [-6.83727859e-01],\n",
       "       [-1.12201873e+00],\n",
       "       [-4.47895185e-01],\n",
       "       [ 4.51122939e-01],\n",
       "       [-7.47158294e-01],\n",
       "       [-2.87307863e-01],\n",
       "       [ 1.85156417e-01],\n",
       "       [-1.02887218e-01],\n",
       "       [-1.07296862e+00],\n",
       "       [ 2.42669441e-01],\n",
       "       [-9.33914656e-01],\n",
       "       [ 1.95607890e+00],\n",
       "       [ 1.65980218e+00],\n",
       "       [ 7.77419205e-01],\n",
       "       [ 4.51615951e-01],\n",
       "       [-1.95057341e-01],\n",
       "       [-1.44411381e+00],\n",
       "       [-1.11647002e+00],\n",
       "       [ 8.54894544e-03],\n",
       "       [ 4.17302005e-01],\n",
       "       [ 1.19268607e+00],\n",
       "       [ 1.06222724e-01],\n",
       "       [-8.67787223e-01],\n",
       "       [-8.90555584e-01],\n",
       "       [ 2.05117344e+00],\n",
       "       [ 5.30355467e-01],\n",
       "       [-1.86578994e-01],\n",
       "       [ 3.19039096e-01],\n",
       "       [-6.36995647e-01],\n",
       "       [ 1.29322588e+00],\n",
       "       [ 1.20158952e-01],\n",
       "       [-1.75592564e+00],\n",
       "       [-1.19054188e-01],\n",
       "       [-2.11416392e+00],\n",
       "       [ 5.85662000e-01],\n",
       "       [ 1.12141771e+00],\n",
       "       [ 5.62761097e-01],\n",
       "       [ 1.69245460e+00],\n",
       "       [-1.42655542e+00],\n",
       "       [-6.80678141e-01],\n",
       "       [-1.53879325e+00],\n",
       "       [ 4.95211324e-01],\n",
       "       [-1.47115693e+00],\n",
       "       [-1.30572692e+00],\n",
       "       [-1.33195167e+00],\n",
       "       [ 1.21821271e-01],\n",
       "       [ 4.08900538e-01],\n",
       "       [ 8.05393424e-01],\n",
       "       [ 1.11438298e+00],\n",
       "       [ 1.76533510e+00],\n",
       "       [ 8.76168921e-01],\n",
       "       [ 1.10417433e+00],\n",
       "       [ 1.03368687e+00],\n",
       "       [-2.50644065e+00],\n",
       "       [ 5.15073614e-01],\n",
       "       [-5.93843067e-01],\n",
       "       [-2.37941936e-01],\n",
       "       [ 8.10951673e-01],\n",
       "       [ 2.52832571e+00],\n",
       "       [ 3.52494364e-01],\n",
       "       [-5.86523939e-01],\n",
       "       [-3.44987210e-01],\n",
       "       [ 4.20282204e-01],\n",
       "       [ 7.40556451e-01],\n",
       "       [ 7.95026094e-01],\n",
       "       [ 3.10272288e-01],\n",
       "       [-1.37311732e+00],\n",
       "       [ 1.09402696e-01],\n",
       "       [-1.77183179e-02],\n",
       "       [-2.06014071e+00],\n",
       "       [-2.03394449e-01],\n",
       "       [-1.87316098e+00],\n",
       "       [ 8.27974643e-01],\n",
       "       [-5.57494722e-01],\n",
       "       [-8.22467189e-01],\n",
       "       [-1.31228341e+00],\n",
       "       [ 2.85587325e-01],\n",
       "       [ 6.80069840e-01],\n",
       "       [-1.98998184e-01],\n",
       "       [-7.31127037e-02],\n",
       "       [-4.14846901e-01],\n",
       "       [-3.74438319e-01],\n",
       "       [-5.04465863e-01],\n",
       "       [-2.97361883e-01],\n",
       "       [ 1.46089238e+00],\n",
       "       [ 6.98032034e-01],\n",
       "       [ 2.82675712e-01],\n",
       "       [ 6.54580153e-01],\n",
       "       [ 3.66332015e-01],\n",
       "       [ 8.68886157e-01],\n",
       "       [ 1.62434536e+00],\n",
       "       [-2.79308500e+00],\n",
       "       [-3.31283170e-01],\n",
       "       [-5.99804531e-01],\n",
       "       [-1.40232915e+00],\n",
       "       [ 5.28879746e-01],\n",
       "       [-1.65072127e+00],\n",
       "       [-1.27255876e+00],\n",
       "       [ 3.05267040e-01],\n",
       "       [-4.18937898e-01],\n",
       "       [-3.53679249e-02],\n",
       "       [ 4.51284016e-01],\n",
       "       [-8.28627979e-01],\n",
       "       [ 3.50167159e-01],\n",
       "       [ 1.76795995e+00],\n",
       "       [-8.30171895e-01],\n",
       "       [ 7.14789597e-01],\n",
       "       [-1.23312074e+00],\n",
       "       [-4.37508983e-01],\n",
       "       [ 5.29465324e-01],\n",
       "       [ 2.34415698e-01],\n",
       "       [-1.00016919e+00],\n",
       "       [ 7.42044161e-01],\n",
       "       [ 4.51946037e-01],\n",
       "       [-8.61316361e-01],\n",
       "       [ 2.84748111e-01],\n",
       "       [-1.39649634e+00],\n",
       "       [ 3.26145467e-02],\n",
       "       [ 5.86623191e-01],\n",
       "       [ 2.01830179e-01],\n",
       "       [ 6.17985534e-01],\n",
       "       [-1.67419581e+00],\n",
       "       [ 8.53281222e-01],\n",
       "       [-1.14434139e+00],\n",
       "       [-1.11731035e+00],\n",
       "       [ 1.11584111e+00],\n",
       "       [ 9.56121704e-01],\n",
       "       [ 1.46210794e+00],\n",
       "       [ 9.20017933e-01],\n",
       "       [-1.22890226e-01],\n",
       "       [ 1.23225307e+00],\n",
       "       [-1.57915629e+00],\n",
       "       [ 1.51981682e+00],\n",
       "       [ 1.27375593e+00],\n",
       "       [-8.45080274e-02],\n",
       "       [ 1.90465871e+00],\n",
       "       [-1.08392067e-01],\n",
       "       [-6.06998398e-01],\n",
       "       [ 1.74094083e-02],\n",
       "       [-1.19926803e+00],\n",
       "       [ 2.44936865e+00],\n",
       "       [-9.97019796e-01],\n",
       "       [-6.25342001e-01],\n",
       "       [ 7.62011180e-01]])"
      ]
     },
     "execution_count": 2,
     "metadata": {},
     "output_type": "execute_result"
    }
   ],
   "source": [
    "X_reg"
   ]
  },
  {
   "cell_type": "markdown",
   "id": "82fada92",
   "metadata": {},
   "source": [
    "Blick auf die Daten"
   ]
  },
  {
   "cell_type": "code",
   "execution_count": 3,
   "id": "4e0dbec9",
   "metadata": {},
   "outputs": [
    {
     "data": {
      "text/plain": [
       "(500, 1)"
      ]
     },
     "execution_count": 3,
     "metadata": {},
     "output_type": "execute_result"
    }
   ],
   "source": [
    "X_reg.shape\n"
   ]
  },
  {
   "cell_type": "markdown",
   "id": "05c07ae5",
   "metadata": {},
   "source": [
    "Länge des Ziel-Vektors"
   ]
  },
  {
   "cell_type": "code",
   "execution_count": 4,
   "id": "991c46ce",
   "metadata": {},
   "outputs": [
    {
     "data": {
      "text/plain": [
       "(500,)"
      ]
     },
     "execution_count": 4,
     "metadata": {},
     "output_type": "execute_result"
    }
   ],
   "source": [
    "y_reg.shape"
   ]
  },
  {
   "cell_type": "markdown",
   "id": "aa6c4a00",
   "metadata": {},
   "source": [
    "Wir können die Daten zweidimensional plotten. Die x-Achse stellt die Eingangswerte dar, die y-Achse die davon abhängigen Werte. Mit X_reg[:, 0] wird die erste und einzige Spalte, der prinzipiel n-dimensionalen Input-Werte-Matrix genutzt."
   ]
  },
  {
   "cell_type": "code",
   "execution_count": 5,
   "id": "3287d095",
   "metadata": {},
   "outputs": [
    {
     "data": {
      "text/plain": [
       "[<matplotlib.lines.Line2D at 0x7f8964cd4790>]"
      ]
     },
     "execution_count": 5,
     "metadata": {},
     "output_type": "execute_result"
    },
    {
     "data": {
      "image/png": "[encoded data removed]",
      "text/plain": [
       "<Figure size 640x480 with 1 Axes>"
      ]
     },
     "metadata": {},
     "output_type": "display_data"
    }
   ],
   "source": [
    "import matplotlib.pyplot as plt\n",
    "%matplotlib inline\n",
    "plt.plot(X_reg[:, 0], y_reg, \".\")"
   ]
  },
  {
   "cell_type": "markdown",
   "id": "470c7544",
   "metadata": {},
   "source": [
    "Wir möchten für diese Daten eine lineares Regression-Modell erstellen, laden dafür die nötige Klasse und erstellen eine Instanz davon. Noch einmal zur Erinnerung - ein lineare Modell wir durch folgende Formel beschrieben:\n",
    "\n",
    "y = w_1 * x_1 + w_2 * x_2 + … + w_n * x_n + b\n",
    "\n",
    "Beim Fitten werden die w-Parameter und der b-Parameter mit Werten versehen."
   ]
  },
  {
   "cell_type": "code",
   "execution_count": 6,
   "id": "e6e6ecb7",
   "metadata": {},
   "outputs": [],
   "source": [
    "from sklearn.linear_model import LinearRegression\n",
    "linear_regression = LinearRegression()"
   ]
  },
  {
   "cell_type": "markdown",
   "id": "d4edff81",
   "metadata": {},
   "source": [
    "Wir teilen unsere Daten für eine spätere Bewertung der Güte in ein Trainings- und ein Testset auf."
   ]
  },
  {
   "cell_type": "code",
   "execution_count": 7,
   "id": "59f4a5be",
   "metadata": {},
   "outputs": [],
   "source": [
    "from sklearn.model_selection import train_test_split\n",
    "X_reg_train, X_reg_test, y_reg_train, y_reg_test = train_test_split(X_reg, y_reg)\n"
   ]
  },
  {
   "cell_type": "markdown",
   "id": "c582eb39",
   "metadata": {},
   "source": [
    "Das Fitting der Parameter erfolg mit der Methode fit."
   ]
  },
  {
   "cell_type": "code",
   "execution_count": 8,
   "id": "d673e384",
   "metadata": {},
   "outputs": [
    {
     "data": {
      "text/plain": [
       "LinearRegression()"
      ]
     },
     "execution_count": 8,
     "metadata": {},
     "output_type": "execute_result"
    }
   ],
   "source": [
    "linear_regression.fit(X_reg_train, y_reg_train)"
   ]
  },
  {
   "cell_type": "markdown",
   "id": "54869214",
   "metadata": {},
   "source": [
    "Wir können uns jetzt die Koeffizienten also in diesem nut Fall w_1 anschauen. Die Gerade hat also die Steigung 21.4."
   ]
  },
  {
   "cell_type": "code",
   "execution_count": 9,
   "id": "91538fd6",
   "metadata": {},
   "outputs": [
    {
     "data": {
      "text/plain": [
       "array([22.21789822])"
      ]
     },
     "execution_count": 9,
     "metadata": {},
     "output_type": "execute_result"
    }
   ],
   "source": [
    "linear_regression.coef_"
   ]
  },
  {
   "cell_type": "markdown",
   "id": "f51678a9",
   "metadata": {},
   "source": [
    "Zudem gibt es noch den y-Achsen-Abschnit bei 0 (Intercept)."
   ]
  },
  {
   "cell_type": "code",
   "execution_count": 10,
   "id": "8a08e8ac",
   "metadata": {},
   "outputs": [
    {
     "data": {
      "text/plain": [
       "0.011958322432102486"
      ]
     },
     "execution_count": 10,
     "metadata": {},
     "output_type": "execute_result"
    }
   ],
   "source": [
    "linear_regression.intercept_"
   ]
  },
  {
   "cell_type": "markdown",
   "id": "611d7041",
   "metadata": {},
   "source": [
    "Wir können nun die Trainingsdaten und die Gerade, die das lineare Modell repräsentiert, in einem Plot darstellen."
   ]
  },
  {
   "cell_type": "code",
   "execution_count": 11,
   "id": "cef766c8",
   "metadata": {},
   "outputs": [
    {
     "data": {
      "text/plain": [
       "[<matplotlib.lines.Line2D at 0x7f8963f94f70>]"
      ]
     },
     "execution_count": 11,
     "metadata": {},
     "output_type": "execute_result"
    },
    {
     "data": {
      "image/png": "[encoded data removed]",
      "text/plain": [
       "<Figure size 640x480 with 1 Axes>"
      ]
     },
     "metadata": {},
     "output_type": "display_data"
    }
   ],
   "source": [
    "plt.plot(X_reg_train, y_reg_train, \".\")\n",
    "y_lm_predicted = linear_regression.predict(X_reg_train)\n",
    "plt.plot(X_reg_train, y_lm_predicted, \".\")"
   ]
  },
  {
   "cell_type": "markdown",
   "id": "7e7bc3d5",
   "metadata": {},
   "source": [
    "Dieses trainierte Modell kann nun auf neue Werte angewandt werden. Zum Beipiel unserer Test-Datenset:"
   ]
  },
  {
   "cell_type": "code",
   "execution_count": 12,
   "id": "a16ca8df",
   "metadata": {},
   "outputs": [
    {
     "data": {
      "text/plain": [
       "array([ 17.62646058,  13.02965665,   0.20189792, -10.40098883,\n",
       "        -7.09336105, -43.16460332,  24.94773474,   3.94869706,\n",
       "         8.22130989,  15.12168081, -13.88182662,  23.22953776,\n",
       "        -4.92770572,  23.21726648, -12.37440267, -31.01525513,\n",
       "        -6.24762943, -24.75813325, -16.90045913,  13.39422679,\n",
       "         8.97669455,  21.92625314, -32.67405652, -24.8524337 ,\n",
       "        -7.34845743,  -5.01626848,  -3.72506638, -15.35528986,\n",
       "        -8.52092224,   5.36063054,  36.06825414,  11.7953421 ,\n",
       "        23.12055327,  -8.53820541,  -1.33561257,  27.84805548,\n",
       "        -5.27461139, -22.69219959, -13.01937085,  19.47125848,\n",
       "       -11.28489054,  -1.25056221,  45.90932188,  26.86131804,\n",
       "        -2.39628559,  -5.07073758, -19.26844987, -26.25666548,\n",
       "       -15.57044076,   3.56764564, -44.91710247,  22.97830795,\n",
       "        19.67793462, -36.66359875,  -7.6529324 , -22.20969894,\n",
       "        25.79224257,   7.02470346,  46.67521318,  -4.32180582,\n",
       "       -36.14630109, -24.44148654,  15.17681601,   3.77527998,\n",
       "        39.23399391,   6.15519174,  -1.1253414 ,  -7.62774764,\n",
       "        48.68470193,   5.12417973, -11.05729993,  -7.1514743 ,\n",
       "        45.58472111,  20.04340919,   0.79758536, -24.9169396 ,\n",
       "        39.12099648, -15.25557479,  24.9718154 , -32.07321523,\n",
       "        13.53187596,  25.68002699, -16.03807151,  38.77800852,\n",
       "       -49.69140209,  29.59413694,   0.39875878,  13.86175572,\n",
       "       -24.42531391,   3.07138979,  -4.50703884,  28.74471936,\n",
       "       -22.13988226,   8.4006321 ,  36.1749371 , -13.18198651,\n",
       "       -47.58914941, -17.70170063, -19.55262517,  -2.27397941,\n",
       "        20.87831389, -18.432649  ,  27.4043871 ,  48.60204953,\n",
       "         1.80998842, -21.17726458,   5.53975277,  22.45486114,\n",
       "        -2.36077961,  -6.59479772,  39.77654572,  -9.93933131,\n",
       "       -13.40588872,  -0.26942245,  18.31963129, -26.11590498,\n",
       "        -7.81429292,   2.1321032 ,  25.4453132 , -12.11399659,\n",
       "        27.21794588,  -6.89747427, -41.26849364,  -1.61245229,\n",
       "       -41.60574163])"
      ]
     },
     "execution_count": 12,
     "metadata": {},
     "output_type": "execute_result"
    }
   ],
   "source": [
    "linear_regression.predict(X_reg_test)"
   ]
  },
  {
   "cell_type": "markdown",
   "id": "982b676b",
   "metadata": {},
   "source": [
    "Für das Testdatenset kennen wir die tatsächlichen y-Werte und können mit der Methode score eine Vorraussage durchführen und diese mit den Werten vergleichen um die Güte der Voraussage zu bewerten."
   ]
  },
  {
   "cell_type": "code",
   "execution_count": 13,
   "id": "26574b69",
   "metadata": {},
   "outputs": [
    {
     "data": {
      "text/plain": [
       "0.5844871035368226"
      ]
     },
     "execution_count": 13,
     "metadata": {},
     "output_type": "execute_result"
    }
   ],
   "source": [
    "linear_regression.score(X_reg_test, y_reg_test)"
   ]
  },
  {
   "cell_type": "markdown",
   "id": "a4581175",
   "metadata": {},
   "source": [
    "Das gleiche Vorgehene können wir nun mit anderen Regression-Methoden nutzen. Zum Beispiel mit der SVM-Methode"
   ]
  },
  {
   "cell_type": "code",
   "execution_count": 14,
   "id": "c6bbde62",
   "metadata": {},
   "outputs": [
    {
     "data": {
      "text/plain": [
       "0.4953566765339811"
      ]
     },
     "execution_count": 14,
     "metadata": {},
     "output_type": "execute_result"
    }
   ],
   "source": [
    "from sklearn.svm import SVR\n",
    "svm_regression = SVR()\n",
    "svm_regression.fit(X_reg_train, y_reg_train)\n",
    "svm_regression.score(X_reg_test, y_reg_test)"
   ]
  },
  {
   "cell_type": "code",
   "execution_count": null,
   "id": "2280f19f",
   "metadata": {},
   "outputs": [],
   "source": []
  },
  {
   "cell_type": "code",
   "execution_count": null,
   "id": "75f2044b",
   "metadata": {},
   "outputs": [],
   "source": []
  },
  {
   "cell_type": "code",
   "execution_count": null,
   "id": "a409a9c1",
   "metadata": {},
   "outputs": [],
   "source": []
  }
 ],
 "metadata": {
  "kernelspec": {
   "display_name": "Python 3 (ipykernel)",
   "language": "python",
   "name": "python3"
  },
  "language_info": {
   "codemirror_mode": {
    "name": "ipython",
    "version": 3
   },
   "file_extension": ".py",
   "mimetype": "text/x-python",
   "name": "python",
   "nbconvert_exporter": "python",
   "pygments_lexer": "ipython3",
   "version": "3.9.13"
  }
 },
 "nbformat": 4,
 "nbformat_minor": 5
}
